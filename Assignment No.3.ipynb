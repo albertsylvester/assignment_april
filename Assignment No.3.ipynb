{
 "cells": [
  {
   "cell_type": "markdown",
   "metadata": {},
   "source": [
    "# A. Import Data"
   ]
  },
  {
   "cell_type": "code",
   "execution_count": 119,
   "metadata": {},
   "outputs": [],
   "source": [
    "import re\n",
    "from collections import Counter"
   ]
  },
  {
   "cell_type": "code",
   "execution_count": 103,
   "metadata": {},
   "outputs": [],
   "source": [
    "data = \"\"\"As a term, data analytics predominantly refers to an assortment of applications, from basic business\n",
    "intelligence (BI), reporting and online analytical processing (OLAP) to various forms of advanced\n",
    "analytics. In that sense, it's similar in nature to business analytics, another umbrella term for\n",
    "approaches to analyzing data -- with the difference that the latter is oriented to business uses, while\n",
    "data analytics has a broader focus. The expansive view of the term isn't universal, though: In some\n",
    "cases, people use data analytics specifically to mean advanced analytics, treating BI as a separate\n",
    "category. Data analytics initiatives can help businesses increase revenues, improve operational\n",
    "efficiency, optimize marketing campaigns and customer service efforts, respond more quickly to\n",
    "emerging market trends and gain a competitive edge over rivals -- all with the ultimate goal of\n",
    "boosting business performance. Depending on the particular application, the data that's analyzed\n",
    "can consist of either historical records or new information that has been processed for real-time\n",
    "analytics uses. In addition, it can come from a mix of internal systems and external data sources. At\n",
    "a high level, data analytics methodologies include exploratory data analysis (EDA), which aims to find\n",
    "patterns and relationships in data, and confirmatory data analysis (CDA), which applies statistical\n",
    "techniques to determine whether hypotheses about a data set are true or false. EDA is often\n",
    "compared to detective work, while CDA is akin to the work of a judge or jury during a court trial -- a\n",
    "distinction first drawn by statistician John W. Tukey in his 1977 book Exploratory Data Analysis. Data\n",
    "analytics can also be separated into quantitative data analysis and qualitative data analysis. The\n",
    "former involves analysis of numerical data with quantifiable variables that can be compared or\n",
    "measured statistically. The qualitative approach is more interpretive -- it focuses on understanding\n",
    "the content of non-numerical data like text, images, audio and video, including common phrases,\n",
    "themes and points of view.\"\"\""
   ]
  },
  {
   "cell_type": "markdown",
   "metadata": {},
   "source": [
    "# B. Text Analysis"
   ]
  },
  {
   "cell_type": "markdown",
   "metadata": {},
   "source": [
    "## B.1 What is the probability of the word “data” occurring in each line ?\n",
    "number of \"data\" / number of lines =  0.636"
   ]
  },
  {
   "cell_type": "code",
   "execution_count": 104,
   "metadata": {},
   "outputs": [],
   "source": [
    "#split data by lines\n",
    "data_split_lines = data.lower().splitlines()"
   ]
  },
  {
   "cell_type": "code",
   "execution_count": 105,
   "metadata": {},
   "outputs": [],
   "source": [
    "#count word \"data\" occurrences in each line\n",
    "word_data_occurrences = 0\n",
    "for line in data_split_lines:\n",
    "    if 'data' in line:\n",
    "        word_data_occurrences += 1"
   ]
  },
  {
   "cell_type": "code",
   "execution_count": 106,
   "metadata": {},
   "outputs": [
    {
     "data": {
      "text/plain": [
       "0.6363636363636364"
      ]
     },
     "execution_count": 106,
     "metadata": {},
     "output_type": "execute_result"
    }
   ],
   "source": [
    "prob_word_data_occuring_in_each_line = word_data_occurrences / len(data_split_lines)\n",
    "prob_word_data_occuring_in_each_line"
   ]
  },
  {
   "cell_type": "markdown",
   "metadata": {},
   "source": [
    "# C. Create Unigram Word Model"
   ]
  },
  {
   "cell_type": "code",
   "execution_count": 107,
   "metadata": {},
   "outputs": [],
   "source": [
    "def tokenize(string):\n",
    "    return re.compile('\\w+').findall(string)\n",
    "\n",
    "def word_freq(string): \n",
    "    text = tokenize(string.lower())\n",
    "    c = Counter(text) #count the words\n",
    "    return dict(c)"
   ]
  },
  {
   "cell_type": "code",
   "execution_count": 108,
   "metadata": {},
   "outputs": [],
   "source": [
    "words = word_freq(data) # count and get dicts with counts"
   ]
  },
  {
   "cell_type": "code",
   "execution_count": 109,
   "metadata": {},
   "outputs": [
    {
     "data": {
      "text/plain": [
       "320"
      ]
     },
     "execution_count": 109,
     "metadata": {},
     "output_type": "execute_result"
    }
   ],
   "source": [
    "sum_words = sum(words.values())# sum total words\n",
    "sum_words"
   ]
  },
  {
   "cell_type": "markdown",
   "metadata": {},
   "source": [
    "## C.1 What is the distribution of distinct word counts across all the lines ?"
   ]
  },
  {
   "cell_type": "code",
   "execution_count": 116,
   "metadata": {
    "scrolled": true
   },
   "outputs": [
    {
     "data": {
      "text/plain": [
       "{'1977': 1,\n",
       " 'a': 10,\n",
       " 'about': 1,\n",
       " 'addition': 1,\n",
       " 'advanced': 2,\n",
       " 'aims': 1,\n",
       " 'akin': 1,\n",
       " 'all': 1,\n",
       " 'also': 1,\n",
       " 'an': 1,\n",
       " 'analysis': 6,\n",
       " 'analytical': 1,\n",
       " 'analytics': 10,\n",
       " 'analyzed': 1,\n",
       " 'analyzing': 1,\n",
       " 'and': 9,\n",
       " 'another': 1,\n",
       " 'application': 1,\n",
       " 'applications': 1,\n",
       " 'applies': 1,\n",
       " 'approach': 1,\n",
       " 'approaches': 1,\n",
       " 'are': 1,\n",
       " 'as': 2,\n",
       " 'assortment': 1,\n",
       " 'at': 1,\n",
       " 'audio': 1,\n",
       " 'basic': 1,\n",
       " 'be': 2,\n",
       " 'been': 1,\n",
       " 'bi': 2,\n",
       " 'book': 1,\n",
       " 'boosting': 1,\n",
       " 'broader': 1,\n",
       " 'business': 4,\n",
       " 'businesses': 1,\n",
       " 'by': 1,\n",
       " 'campaigns': 1,\n",
       " 'can': 5,\n",
       " 'cases': 1,\n",
       " 'category': 1,\n",
       " 'cda': 2,\n",
       " 'come': 1,\n",
       " 'common': 1,\n",
       " 'compared': 2,\n",
       " 'competitive': 1,\n",
       " 'confirmatory': 1,\n",
       " 'consist': 1,\n",
       " 'content': 1,\n",
       " 'court': 1,\n",
       " 'customer': 1,\n",
       " 'data': 18,\n",
       " 'depending': 1,\n",
       " 'detective': 1,\n",
       " 'determine': 1,\n",
       " 'difference': 1,\n",
       " 'distinction': 1,\n",
       " 'drawn': 1,\n",
       " 'during': 1,\n",
       " 'eda': 2,\n",
       " 'edge': 1,\n",
       " 'efficiency': 1,\n",
       " 'efforts': 1,\n",
       " 'either': 1,\n",
       " 'emerging': 1,\n",
       " 'expansive': 1,\n",
       " 'exploratory': 2,\n",
       " 'external': 1,\n",
       " 'false': 1,\n",
       " 'find': 1,\n",
       " 'first': 1,\n",
       " 'focus': 1,\n",
       " 'focuses': 1,\n",
       " 'for': 2,\n",
       " 'former': 1,\n",
       " 'forms': 1,\n",
       " 'from': 2,\n",
       " 'gain': 1,\n",
       " 'goal': 1,\n",
       " 'has': 2,\n",
       " 'help': 1,\n",
       " 'high': 1,\n",
       " 'his': 1,\n",
       " 'historical': 1,\n",
       " 'hypotheses': 1,\n",
       " 'images': 1,\n",
       " 'improve': 1,\n",
       " 'in': 6,\n",
       " 'include': 1,\n",
       " 'including': 1,\n",
       " 'increase': 1,\n",
       " 'information': 1,\n",
       " 'initiatives': 1,\n",
       " 'intelligence': 1,\n",
       " 'internal': 1,\n",
       " 'interpretive': 1,\n",
       " 'into': 1,\n",
       " 'involves': 1,\n",
       " 'is': 4,\n",
       " 'isn': 1,\n",
       " 'it': 3,\n",
       " 'john': 1,\n",
       " 'judge': 1,\n",
       " 'jury': 1,\n",
       " 'latter': 1,\n",
       " 'level': 1,\n",
       " 'like': 1,\n",
       " 'market': 1,\n",
       " 'marketing': 1,\n",
       " 'mean': 1,\n",
       " 'measured': 1,\n",
       " 'methodologies': 1,\n",
       " 'mix': 1,\n",
       " 'more': 2,\n",
       " 'nature': 1,\n",
       " 'new': 1,\n",
       " 'non': 1,\n",
       " 'numerical': 2,\n",
       " 'of': 10,\n",
       " 'often': 1,\n",
       " 'olap': 1,\n",
       " 'on': 2,\n",
       " 'online': 1,\n",
       " 'operational': 1,\n",
       " 'optimize': 1,\n",
       " 'or': 4,\n",
       " 'oriented': 1,\n",
       " 'over': 1,\n",
       " 'particular': 1,\n",
       " 'patterns': 1,\n",
       " 'people': 1,\n",
       " 'performance': 1,\n",
       " 'phrases': 1,\n",
       " 'points': 1,\n",
       " 'predominantly': 1,\n",
       " 'processed': 1,\n",
       " 'processing': 1,\n",
       " 'qualitative': 2,\n",
       " 'quantifiable': 1,\n",
       " 'quantitative': 1,\n",
       " 'quickly': 1,\n",
       " 'real': 1,\n",
       " 'records': 1,\n",
       " 'refers': 1,\n",
       " 'relationships': 1,\n",
       " 'reporting': 1,\n",
       " 'respond': 1,\n",
       " 'revenues': 1,\n",
       " 'rivals': 1,\n",
       " 's': 2,\n",
       " 'sense': 1,\n",
       " 'separate': 1,\n",
       " 'separated': 1,\n",
       " 'service': 1,\n",
       " 'set': 1,\n",
       " 'similar': 1,\n",
       " 'some': 1,\n",
       " 'sources': 1,\n",
       " 'specifically': 1,\n",
       " 'statistical': 1,\n",
       " 'statistically': 1,\n",
       " 'statistician': 1,\n",
       " 'systems': 1,\n",
       " 't': 1,\n",
       " 'techniques': 1,\n",
       " 'term': 3,\n",
       " 'text': 1,\n",
       " 'that': 5,\n",
       " 'the': 11,\n",
       " 'themes': 1,\n",
       " 'though': 1,\n",
       " 'time': 1,\n",
       " 'to': 11,\n",
       " 'treating': 1,\n",
       " 'trends': 1,\n",
       " 'trial': 1,\n",
       " 'true': 1,\n",
       " 'tukey': 1,\n",
       " 'ultimate': 1,\n",
       " 'umbrella': 1,\n",
       " 'understanding': 1,\n",
       " 'universal': 1,\n",
       " 'use': 1,\n",
       " 'uses': 2,\n",
       " 'variables': 1,\n",
       " 'various': 1,\n",
       " 'video': 1,\n",
       " 'view': 2,\n",
       " 'w': 1,\n",
       " 'whether': 1,\n",
       " 'which': 2,\n",
       " 'while': 2,\n",
       " 'with': 3,\n",
       " 'work': 2}"
      ]
     },
     "execution_count": 116,
     "metadata": {},
     "output_type": "execute_result"
    }
   ],
   "source": [
    "words"
   ]
  },
  {
   "cell_type": "markdown",
   "metadata": {},
   "source": [
    "## C.2 What is the probability of the word “analytics” occurring after the word “data” ?\n",
    "Prob(\"analytics\"|\"data\") = Prob(\"data analytics\")/Prob(\"data\") = 0.278"
   ]
  },
  {
   "cell_type": "code",
   "execution_count": 114,
   "metadata": {},
   "outputs": [],
   "source": [
    "def get_multi_word_occurrence(word, input_string):\n",
    "    return sum(1 for _ in re.finditer(r'\\b%s\\b' % re.escape(word), input_string.lower()))"
   ]
  },
  {
   "cell_type": "code",
   "execution_count": 113,
   "metadata": {},
   "outputs": [
    {
     "data": {
      "text/plain": [
       "0.2777777777777778"
      ]
     },
     "execution_count": 113,
     "metadata": {},
     "output_type": "execute_result"
    }
   ],
   "source": [
    "prob_data_analytics = get_multi_word_occurrence(\"data analytics\", data) / sum_words\n",
    "prob_data = words[\"data\"] / sum_words\n",
    "prob_analytics_given_data = prob_data_analytics / prob_data\n",
    "\n",
    "prob_analytics_given_data"
   ]
  },
  {
   "cell_type": "code",
   "execution_count": null,
   "metadata": {},
   "outputs": [],
   "source": []
  }
 ],
 "metadata": {
  "kernelspec": {
   "display_name": "Python 3",
   "language": "python",
   "name": "python3"
  },
  "language_info": {
   "codemirror_mode": {
    "name": "ipython",
    "version": 3
   },
   "file_extension": ".py",
   "mimetype": "text/x-python",
   "name": "python",
   "nbconvert_exporter": "python",
   "pygments_lexer": "ipython3",
   "version": "3.5.2"
  }
 },
 "nbformat": 4,
 "nbformat_minor": 2
}
