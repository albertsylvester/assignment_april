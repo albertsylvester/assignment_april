{
 "cells": [
  {
   "cell_type": "code",
   "execution_count": 243,
   "metadata": {},
   "outputs": [],
   "source": [
    "import pandas as pd\n",
    "from matplotlib import pyplot as plt\n",
    "from pandas.plotting import autocorrelation_plot\n",
    "from statsmodels.graphics.tsaplots import plot_acf, plot_pacf\n",
    "from sklearn.metrics import mean_squared_error\n",
    "import math\n",
    "\n",
    "import numpy as np\n",
    "from statsmodels.tsa.stattools import adfuller"
   ]
  },
  {
   "cell_type": "markdown",
   "metadata": {},
   "source": [
    "In this notebook, we are trying to answer whether it is possible to make a tool/model to help the plantation planning team better predict FFB yield from month to month."
   ]
  },
  {
   "cell_type": "markdown",
   "metadata": {},
   "source": [
    "# A. DATA PREPARATION\n",
    "\n",
    "## A.1 Load Data"
   ]
  },
  {
   "cell_type": "code",
   "execution_count": 244,
   "metadata": {},
   "outputs": [],
   "source": [
    "df = pd.read_csv(\"palm_ffb.csv\")"
   ]
  },
  {
   "cell_type": "code",
   "execution_count": 245,
   "metadata": {},
   "outputs": [
    {
     "name": "stdout",
     "output_type": "stream",
     "text": [
      "<class 'pandas.core.frame.DataFrame'>\n",
      "RangeIndex: 130 entries, 0 to 129\n",
      "Data columns (total 9 columns):\n",
      "Date             130 non-null object\n",
      "SoilMoisture     130 non-null float64\n",
      "Average_Temp     130 non-null float64\n",
      "Min_Temp         130 non-null float64\n",
      "Max_Temp         130 non-null float64\n",
      "Precipitation    130 non-null float64\n",
      "Working_days     130 non-null int64\n",
      "HA_Harvested     130 non-null float64\n",
      "FFB_Yield        130 non-null float64\n",
      "dtypes: float64(7), int64(1), object(1)\n",
      "memory usage: 9.2+ KB\n"
     ]
    }
   ],
   "source": [
    "df.info()"
   ]
  },
  {
   "cell_type": "code",
   "execution_count": 246,
   "metadata": {},
   "outputs": [],
   "source": [
    "def date_parser(data):\n",
    "    data_splitted = data.split('.')\n",
    "    return data_splitted[2]+'-'+data_splitted[1]+'-'+data_splitted[0]"
   ]
  },
  {
   "cell_type": "code",
   "execution_count": 247,
   "metadata": {},
   "outputs": [],
   "source": [
    "df['date'] = df.apply(lambda x: date_parser(x['Date']),axis=1)\n",
    "df['date'] = pd.to_datetime(df['date'])"
   ]
  },
  {
   "cell_type": "code",
   "execution_count": 248,
   "metadata": {},
   "outputs": [],
   "source": [
    "#drop Date column\n",
    "df.drop(columns=['Date'], inplace=True)"
   ]
  },
  {
   "cell_type": "code",
   "execution_count": 249,
   "metadata": {
    "scrolled": true
   },
   "outputs": [
    {
     "data": {
      "text/html": [
       "<div>\n",
       "<style scoped>\n",
       "    .dataframe tbody tr th:only-of-type {\n",
       "        vertical-align: middle;\n",
       "    }\n",
       "\n",
       "    .dataframe tbody tr th {\n",
       "        vertical-align: top;\n",
       "    }\n",
       "\n",
       "    .dataframe thead th {\n",
       "        text-align: right;\n",
       "    }\n",
       "</style>\n",
       "<table border=\"1\" class=\"dataframe\">\n",
       "  <thead>\n",
       "    <tr style=\"text-align: right;\">\n",
       "      <th></th>\n",
       "      <th>SoilMoisture</th>\n",
       "      <th>Average_Temp</th>\n",
       "      <th>Min_Temp</th>\n",
       "      <th>Max_Temp</th>\n",
       "      <th>Precipitation</th>\n",
       "      <th>Working_days</th>\n",
       "      <th>HA_Harvested</th>\n",
       "      <th>FFB_Yield</th>\n",
       "      <th>date</th>\n",
       "    </tr>\n",
       "  </thead>\n",
       "  <tbody>\n",
       "    <tr>\n",
       "      <th>125</th>\n",
       "      <td>498.2</td>\n",
       "      <td>27.213333</td>\n",
       "      <td>21.6</td>\n",
       "      <td>33.6</td>\n",
       "      <td>165.6</td>\n",
       "      <td>24</td>\n",
       "      <td>820758.9147</td>\n",
       "      <td>1.29</td>\n",
       "      <td>2018-06-01</td>\n",
       "    </tr>\n",
       "    <tr>\n",
       "      <th>126</th>\n",
       "      <td>494.7</td>\n",
       "      <td>27.074194</td>\n",
       "      <td>21.2</td>\n",
       "      <td>33.5</td>\n",
       "      <td>154.7</td>\n",
       "      <td>26</td>\n",
       "      <td>882254.2254</td>\n",
       "      <td>1.42</td>\n",
       "      <td>2018-07-01</td>\n",
       "    </tr>\n",
       "    <tr>\n",
       "      <th>127</th>\n",
       "      <td>478.8</td>\n",
       "      <td>27.016129</td>\n",
       "      <td>20.4</td>\n",
       "      <td>33.6</td>\n",
       "      <td>127.2</td>\n",
       "      <td>25</td>\n",
       "      <td>829488.8199</td>\n",
       "      <td>1.61</td>\n",
       "      <td>2018-08-01</td>\n",
       "    </tr>\n",
       "    <tr>\n",
       "      <th>128</th>\n",
       "      <td>481.1</td>\n",
       "      <td>26.946667</td>\n",
       "      <td>21.0</td>\n",
       "      <td>34.2</td>\n",
       "      <td>180.6</td>\n",
       "      <td>23</td>\n",
       "      <td>792101.0471</td>\n",
       "      <td>1.91</td>\n",
       "      <td>2018-09-01</td>\n",
       "    </tr>\n",
       "    <tr>\n",
       "      <th>129</th>\n",
       "      <td>510.8</td>\n",
       "      <td>26.819355</td>\n",
       "      <td>21.0</td>\n",
       "      <td>34.4</td>\n",
       "      <td>207.0</td>\n",
       "      <td>26</td>\n",
       "      <td>771805.3922</td>\n",
       "      <td>2.04</td>\n",
       "      <td>2018-10-01</td>\n",
       "    </tr>\n",
       "  </tbody>\n",
       "</table>\n",
       "</div>"
      ],
      "text/plain": [
       "     SoilMoisture  Average_Temp  Min_Temp  Max_Temp  Precipitation  \\\n",
       "125         498.2     27.213333      21.6      33.6          165.6   \n",
       "126         494.7     27.074194      21.2      33.5          154.7   \n",
       "127         478.8     27.016129      20.4      33.6          127.2   \n",
       "128         481.1     26.946667      21.0      34.2          180.6   \n",
       "129         510.8     26.819355      21.0      34.4          207.0   \n",
       "\n",
       "     Working_days  HA_Harvested  FFB_Yield       date  \n",
       "125            24   820758.9147       1.29 2018-06-01  \n",
       "126            26   882254.2254       1.42 2018-07-01  \n",
       "127            25   829488.8199       1.61 2018-08-01  \n",
       "128            23   792101.0471       1.91 2018-09-01  \n",
       "129            26   771805.3922       2.04 2018-10-01  "
      ]
     },
     "execution_count": 249,
     "metadata": {},
     "output_type": "execute_result"
    }
   ],
   "source": [
    "df.tail()"
   ]
  },
  {
   "cell_type": "code",
   "execution_count": 250,
   "metadata": {
    "scrolled": true
   },
   "outputs": [
    {
     "data": {
      "text/plain": [
       "date\n",
       "2008-01-01    1.62\n",
       "2008-02-01    1.45\n",
       "2008-03-01    1.56\n",
       "2008-04-01    1.39\n",
       "2008-05-01    1.44\n",
       "dtype: float64"
      ]
     },
     "execution_count": 250,
     "metadata": {},
     "output_type": "execute_result"
    }
   ],
   "source": [
    "#split data to create data training (Jan 2008 - Oct 2017) and validation (Nov 2017 - Oct 2018)\n",
    "series = pd.Series(df[:-12]['FFB_Yield'].values, index=df[:-12]['date'])\n",
    "series.head()"
   ]
  },
  {
   "cell_type": "code",
   "execution_count": 251,
   "metadata": {},
   "outputs": [
    {
     "data": {
      "text/plain": [
       "date\n",
       "2017-11-01    2.27\n",
       "2017-12-01    2.19\n",
       "2018-01-01    1.77\n",
       "2018-02-01    1.39\n",
       "2018-03-01    1.53\n",
       "dtype: float64"
      ]
     },
     "execution_count": 251,
     "metadata": {},
     "output_type": "execute_result"
    }
   ],
   "source": [
    "#validation data is to be used latter\n",
    "validation = pd.Series(df.tail(12)['FFB_Yield'].values, index=df.tail(12)['date'])\n",
    "validation.head()"
   ]
  },
  {
   "cell_type": "markdown",
   "metadata": {},
   "source": [
    "## A.3 Data Visualization"
   ]
  },
  {
   "cell_type": "code",
   "execution_count": 252,
   "metadata": {},
   "outputs": [
    {
     "data": {
      "image/png": "[encoded data removed]",
      "text/plain": [
       "<Figure size 648x432 with 1 Axes>"
      ]
     },
     "metadata": {
      "needs_background": "light"
     },
     "output_type": "display_data"
    }
   ],
   "source": [
    "#plot line\n",
    "plt.figure(figsize=(9,6))\n",
    "plt.plot(series.values)\n",
    "plt.ylabel('FFB_yield')\n",
    "plt.xlabel('Time')\n",
    "plt.show()"
   ]
  },
  {
   "cell_type": "code",
   "execution_count": 253,
   "metadata": {},
   "outputs": [
    {
     "data": {
      "image/png": "[encoded data removed]",
      "text/plain": [
       "<Figure size 648x432 with 1 Axes>"
      ]
     },
     "metadata": {
      "needs_background": "light"
     },
     "output_type": "display_data"
    }
   ],
   "source": [
    "#histogram\n",
    "plt.figure(figsize=(9,6))\n",
    "plt.hist(series.values)\n",
    "plt.show()"
   ]
  },
  {
   "cell_type": "code",
   "execution_count": 254,
   "metadata": {
    "scrolled": false
   },
   "outputs": [
    {
     "data": {
      "image/png": "[encoded data removed]",
      "text/plain": [
       "<Figure size 1152x648 with 1 Axes>"
      ]
     },
     "metadata": {
      "needs_background": "light"
     },
     "output_type": "display_data"
    }
   ],
   "source": [
    "#box plot\n",
    "from pandas import Grouper\n",
    "\n",
    "plt.figure(figsize=(16,9))\n",
    "groups = series['2008':'2016'].groupby(Grouper(freq= 'A'))\n",
    "years = pd.DataFrame()\n",
    "for name, group in groups:\n",
    "    years[name.year] = group.values\n",
    "\n",
    "years.boxplot()\n",
    "plt.title('Boxplot of FFB_yield Grouped By Year')\n",
    "plt.ylabel('FFB_yield')\n",
    "plt.xlabel('Year')\n",
    "plt.show()"
   ]
  },
  {
   "cell_type": "markdown",
   "metadata": {},
   "source": [
    "### Findings\n",
    "The observations suggest that the year-to-year fluctuations may not be systematic and hard to model. This yearly view of the data is an interesting avenue and could be pursued further by looking at summary statistics from year-to-year and changes in summary stats from year-to-year."
   ]
  },
  {
   "cell_type": "code",
   "execution_count": 255,
   "metadata": {},
   "outputs": [
    {
     "data": {
      "text/html": [
       "<div>\n",
       "<style scoped>\n",
       "    .dataframe tbody tr th:only-of-type {\n",
       "        vertical-align: middle;\n",
       "    }\n",
       "\n",
       "    .dataframe tbody tr th {\n",
       "        vertical-align: top;\n",
       "    }\n",
       "\n",
       "    .dataframe thead th {\n",
       "        text-align: right;\n",
       "    }\n",
       "</style>\n",
       "<table border=\"1\" class=\"dataframe\">\n",
       "  <thead>\n",
       "    <tr style=\"text-align: right;\">\n",
       "      <th></th>\n",
       "      <th>2008</th>\n",
       "      <th>2009</th>\n",
       "      <th>2010</th>\n",
       "      <th>2011</th>\n",
       "      <th>2012</th>\n",
       "      <th>2013</th>\n",
       "      <th>2014</th>\n",
       "      <th>2015</th>\n",
       "      <th>2016</th>\n",
       "    </tr>\n",
       "  </thead>\n",
       "  <tbody>\n",
       "    <tr>\n",
       "      <th>count</th>\n",
       "      <td>12.000000</td>\n",
       "      <td>12.000000</td>\n",
       "      <td>12.000000</td>\n",
       "      <td>12.000000</td>\n",
       "      <td>12.000000</td>\n",
       "      <td>12.000000</td>\n",
       "      <td>12.000000</td>\n",
       "      <td>12.000000</td>\n",
       "      <td>12.000000</td>\n",
       "    </tr>\n",
       "    <tr>\n",
       "      <th>mean</th>\n",
       "      <td>1.612500</td>\n",
       "      <td>1.573333</td>\n",
       "      <td>1.500000</td>\n",
       "      <td>1.645833</td>\n",
       "      <td>1.585000</td>\n",
       "      <td>1.624167</td>\n",
       "      <td>1.625000</td>\n",
       "      <td>1.666667</td>\n",
       "      <td>1.484167</td>\n",
       "    </tr>\n",
       "    <tr>\n",
       "      <th>std</th>\n",
       "      <td>0.159381</td>\n",
       "      <td>0.209256</td>\n",
       "      <td>0.200952</td>\n",
       "      <td>0.309793</td>\n",
       "      <td>0.371422</td>\n",
       "      <td>0.296110</td>\n",
       "      <td>0.272847</td>\n",
       "      <td>0.275296</td>\n",
       "      <td>0.282729</td>\n",
       "    </tr>\n",
       "    <tr>\n",
       "      <th>min</th>\n",
       "      <td>1.390000</td>\n",
       "      <td>1.300000</td>\n",
       "      <td>1.160000</td>\n",
       "      <td>1.080000</td>\n",
       "      <td>1.090000</td>\n",
       "      <td>1.210000</td>\n",
       "      <td>1.200000</td>\n",
       "      <td>1.170000</td>\n",
       "      <td>1.100000</td>\n",
       "    </tr>\n",
       "    <tr>\n",
       "      <th>25%</th>\n",
       "      <td>1.472500</td>\n",
       "      <td>1.455000</td>\n",
       "      <td>1.352500</td>\n",
       "      <td>1.507500</td>\n",
       "      <td>1.247500</td>\n",
       "      <td>1.375000</td>\n",
       "      <td>1.440000</td>\n",
       "      <td>1.485000</td>\n",
       "      <td>1.232500</td>\n",
       "    </tr>\n",
       "    <tr>\n",
       "      <th>50%</th>\n",
       "      <td>1.620000</td>\n",
       "      <td>1.565000</td>\n",
       "      <td>1.525000</td>\n",
       "      <td>1.710000</td>\n",
       "      <td>1.630000</td>\n",
       "      <td>1.630000</td>\n",
       "      <td>1.515000</td>\n",
       "      <td>1.775000</td>\n",
       "      <td>1.505000</td>\n",
       "    </tr>\n",
       "    <tr>\n",
       "      <th>75%</th>\n",
       "      <td>1.680000</td>\n",
       "      <td>1.627500</td>\n",
       "      <td>1.667500</td>\n",
       "      <td>1.812500</td>\n",
       "      <td>1.890000</td>\n",
       "      <td>1.815000</td>\n",
       "      <td>1.835000</td>\n",
       "      <td>1.877500</td>\n",
       "      <td>1.717500</td>\n",
       "    </tr>\n",
       "    <tr>\n",
       "      <th>max</th>\n",
       "      <td>1.890000</td>\n",
       "      <td>2.070000</td>\n",
       "      <td>1.740000</td>\n",
       "      <td>2.080000</td>\n",
       "      <td>2.080000</td>\n",
       "      <td>2.040000</td>\n",
       "      <td>2.140000</td>\n",
       "      <td>1.970000</td>\n",
       "      <td>1.840000</td>\n",
       "    </tr>\n",
       "  </tbody>\n",
       "</table>\n",
       "</div>"
      ],
      "text/plain": [
       "            2008       2009       2010       2011       2012       2013  \\\n",
       "count  12.000000  12.000000  12.000000  12.000000  12.000000  12.000000   \n",
       "mean    1.612500   1.573333   1.500000   1.645833   1.585000   1.624167   \n",
       "std     0.159381   0.209256   0.200952   0.309793   0.371422   0.296110   \n",
       "min     1.390000   1.300000   1.160000   1.080000   1.090000   1.210000   \n",
       "25%     1.472500   1.455000   1.352500   1.507500   1.247500   1.375000   \n",
       "50%     1.620000   1.565000   1.525000   1.710000   1.630000   1.630000   \n",
       "75%     1.680000   1.627500   1.667500   1.812500   1.890000   1.815000   \n",
       "max     1.890000   2.070000   1.740000   2.080000   2.080000   2.040000   \n",
       "\n",
       "            2014       2015       2016  \n",
       "count  12.000000  12.000000  12.000000  \n",
       "mean    1.625000   1.666667   1.484167  \n",
       "std     0.272847   0.275296   0.282729  \n",
       "min     1.200000   1.170000   1.100000  \n",
       "25%     1.440000   1.485000   1.232500  \n",
       "50%     1.515000   1.775000   1.505000  \n",
       "75%     1.835000   1.877500   1.717500  \n",
       "max     2.140000   1.970000   1.840000  "
      ]
     },
     "execution_count": 255,
     "metadata": {},
     "output_type": "execute_result"
    }
   ],
   "source": [
    "years.describe()"
   ]
  },
  {
   "cell_type": "code",
   "execution_count": 256,
   "metadata": {},
   "outputs": [
    {
     "data": {
      "image/png": "[encoded data removed]",
      "text/plain": [
       "<Figure size 432x288 with 1 Axes>"
      ]
     },
     "metadata": {
      "needs_background": "light"
     },
     "output_type": "display_data"
    }
   ],
   "source": [
    "#autocorrelation plot\n",
    "plot_acf(series)\n",
    "plt.show()"
   ]
  },
  {
   "cell_type": "markdown",
   "metadata": {},
   "source": [
    "### Findings \n",
    "From the picture above, we can see that the maximum value of p when we use ARIMA is around 13."
   ]
  },
  {
   "cell_type": "code",
   "execution_count": 257,
   "metadata": {},
   "outputs": [
    {
     "data": {
      "image/png": "[encoded data removed]",
      "text/plain": [
       "<Figure size 432x288 with 1 Axes>"
      ]
     },
     "metadata": {
      "needs_background": "light"
     },
     "output_type": "display_data"
    }
   ],
   "source": [
    "#partial autocorrelation plot\n",
    "plot_pacf(series)\n",
    "plt.show()"
   ]
  },
  {
   "cell_type": "markdown",
   "metadata": {},
   "source": [
    "### Findings \n",
    "From the picture above, we can see that the maximum value of q when we use ARIMA is around 6."
   ]
  },
  {
   "cell_type": "markdown",
   "metadata": {},
   "source": [
    "## A.4 Resampling (If needed)"
   ]
  },
  {
   "cell_type": "code",
   "execution_count": 258,
   "metadata": {},
   "outputs": [],
   "source": [
    "#None"
   ]
  },
  {
   "cell_type": "markdown",
   "metadata": {},
   "source": [
    "# B. ANALYZE TEMPORAL STRUCTURE\n",
    "\n",
    "## B.1 Is Our Time Series \"White Noise\"?\n",
    "If a time series is white noise, it is a sequence of random numbers and cannot be predicted. If the series of forecast errors are not white noise, it suggests improvements could be made to the predictive model."
   ]
  },
  {
   "cell_type": "code",
   "execution_count": 259,
   "metadata": {},
   "outputs": [
    {
     "data": {
      "text/plain": [
       "count    118.000000\n",
       "mean       1.593475\n",
       "std        0.275437\n",
       "min        1.080000\n",
       "25%        1.382500\n",
       "50%        1.585000\n",
       "75%        1.797500\n",
       "max        2.260000\n",
       "dtype: float64"
      ]
     },
     "execution_count": 259,
     "metadata": {},
     "output_type": "execute_result"
    }
   ],
   "source": [
    "series.describe()"
   ]
  },
  {
   "cell_type": "code",
   "execution_count": 260,
   "metadata": {},
   "outputs": [
    {
     "data": {
      "text/plain": [
       "<matplotlib.axes._subplots.AxesSubplot at 0x7eff0f19fc88>"
      ]
     },
     "execution_count": 260,
     "metadata": {},
     "output_type": "execute_result"
    },
    {
     "data": {
      "image/png": "[encoded data removed]",
      "text/plain": [
       "<Figure size 432x288 with 1 Axes>"
      ]
     },
     "metadata": {
      "needs_background": "light"
     },
     "output_type": "display_data"
    }
   ],
   "source": [
    "#autocorrelation plot\n",
    "autocorrelation_plot(series)"
   ]
  },
  {
   "cell_type": "markdown",
   "metadata": {},
   "source": [
    "### Findings\n",
    "As you can see that the autocorrelation is not below line and mean is not zero. So the data is not a white noise"
   ]
  },
  {
   "cell_type": "markdown",
   "metadata": {},
   "source": [
    "## B.2 Is Our Time Series \"Random Walk\"? (Checking Stationary Also)\n",
    "Our time series may be a random walk. Some ways to check if our time series is a random\n",
    "walk are as follows:\n",
    "<ul>\n",
    "<li> The time series shows a strong temporal dependence that decays linearly or in a similar\n",
    "pattern.</li>\n",
    "\n",
    "<li>The time series is non-stationary and making it stationary shows no obviously learnable\n",
    "structure in the data.</li>\n",
    "\n",
    "<li>The persistence / naive forecast model provides the best source of reliable predictions.</li>\n",
    "</ul>\n",
    "\n",
    "-------------------\n",
    "\n",
    "\n",
    "The random walk hypothesis is a theory that the time series are a random walk and cannot be predicted."
   ]
  },
  {
   "cell_type": "code",
   "execution_count": 261,
   "metadata": {},
   "outputs": [
    {
     "name": "stdout",
     "output_type": "stream",
     "text": [
      "ADF statistic: -3.006622\n",
      "p-value: 0.034281\n",
      "Critical values: \n",
      "10%: -2.582\n",
      "5%: -2.889\n",
      "1%: -3.494\n"
     ]
    }
   ],
   "source": [
    "# statistical test\n",
    "result = adfuller(series)\n",
    "print('ADF statistic: %f' %result[0])\n",
    "print('p-value: %f' %result[1])\n",
    "print('Critical values: ')\n",
    "for key, value in result[4].items():\n",
    "    print('%s: %.3f' %(key,value))\n",
    "    \n",
    "    if key == '5%':\n",
    "        critical_value_5_percent = value"
   ]
  },
  {
   "cell_type": "code",
   "execution_count": 262,
   "metadata": {},
   "outputs": [
    {
     "name": "stdout",
     "output_type": "stream",
     "text": [
      "Stationary\n"
     ]
    }
   ],
   "source": [
    "if result[0] < critical_value_5_percent:\n",
    "    print(\"Stationary\") #or does not have time-dependent structure\n",
    "else:\n",
    "    print(\"Non-Stationary\")#or does have time-dependent structure"
   ]
  },
  {
   "cell_type": "markdown",
   "metadata": {},
   "source": [
    "### Findings\n",
    "It seems that our time series is not a random walk."
   ]
  },
  {
   "cell_type": "markdown",
   "metadata": {},
   "source": [
    "## B.3 Decompose Time Series Data"
   ]
  },
  {
   "cell_type": "code",
   "execution_count": 263,
   "metadata": {},
   "outputs": [],
   "source": [
    "from statsmodels.tsa.seasonal import seasonal_decompose"
   ]
  },
  {
   "cell_type": "code",
   "execution_count": 264,
   "metadata": {},
   "outputs": [],
   "source": [
    "result_decompose = seasonal_decompose(series, model='multiplicative')"
   ]
  },
  {
   "cell_type": "code",
   "execution_count": 265,
   "metadata": {},
   "outputs": [
    {
     "data": {
      "image/png": "[encoded data removed]",
      "text/plain": [
       "<Figure size 432x288 with 4 Axes>"
      ]
     },
     "metadata": {
      "needs_background": "light"
     },
     "output_type": "display_data"
    }
   ],
   "source": [
    "result_decompose.plot()\n",
    "plt.show()"
   ]
  },
  {
   "cell_type": "markdown",
   "metadata": {},
   "source": [
    "# C. Evaluate Models\n",
    "\n",
    "## C.1 Finding Baseline Performance\n",
    "The simplest forecast that we can make is to forecast that what happened in the previous time\n",
    "step will be the same as what will happen in the next time step. This is called the _naive forecast\n",
    "or the persistence forecast model_."
   ]
  },
  {
   "cell_type": "code",
   "execution_count": 266,
   "metadata": {},
   "outputs": [],
   "source": [
    "values = pd.DataFrame(series)\n",
    "df = pd.concat([values.shift(1), values], axis=1)\n",
    "df.columns = ['t', 't+1']"
   ]
  },
  {
   "cell_type": "code",
   "execution_count": 267,
   "metadata": {},
   "outputs": [
    {
     "data": {
      "text/html": [
       "<div>\n",
       "<style scoped>\n",
       "    .dataframe tbody tr th:only-of-type {\n",
       "        vertical-align: middle;\n",
       "    }\n",
       "\n",
       "    .dataframe tbody tr th {\n",
       "        vertical-align: top;\n",
       "    }\n",
       "\n",
       "    .dataframe thead th {\n",
       "        text-align: right;\n",
       "    }\n",
       "</style>\n",
       "<table border=\"1\" class=\"dataframe\">\n",
       "  <thead>\n",
       "    <tr style=\"text-align: right;\">\n",
       "      <th></th>\n",
       "      <th>t</th>\n",
       "      <th>t+1</th>\n",
       "    </tr>\n",
       "  </thead>\n",
       "  <tbody>\n",
       "    <tr>\n",
       "      <th>count</th>\n",
       "      <td>117.000000</td>\n",
       "      <td>118.000000</td>\n",
       "    </tr>\n",
       "    <tr>\n",
       "      <th>mean</th>\n",
       "      <td>1.587778</td>\n",
       "      <td>1.593475</td>\n",
       "    </tr>\n",
       "    <tr>\n",
       "      <th>std</th>\n",
       "      <td>0.269550</td>\n",
       "      <td>0.275437</td>\n",
       "    </tr>\n",
       "    <tr>\n",
       "      <th>min</th>\n",
       "      <td>1.080000</td>\n",
       "      <td>1.080000</td>\n",
       "    </tr>\n",
       "    <tr>\n",
       "      <th>25%</th>\n",
       "      <td>1.380000</td>\n",
       "      <td>1.382500</td>\n",
       "    </tr>\n",
       "    <tr>\n",
       "      <th>50%</th>\n",
       "      <td>1.580000</td>\n",
       "      <td>1.585000</td>\n",
       "    </tr>\n",
       "    <tr>\n",
       "      <th>75%</th>\n",
       "      <td>1.790000</td>\n",
       "      <td>1.797500</td>\n",
       "    </tr>\n",
       "    <tr>\n",
       "      <th>max</th>\n",
       "      <td>2.140000</td>\n",
       "      <td>2.260000</td>\n",
       "    </tr>\n",
       "  </tbody>\n",
       "</table>\n",
       "</div>"
      ],
      "text/plain": [
       "                t         t+1\n",
       "count  117.000000  118.000000\n",
       "mean     1.587778    1.593475\n",
       "std      0.269550    0.275437\n",
       "min      1.080000    1.080000\n",
       "25%      1.380000    1.382500\n",
       "50%      1.580000    1.585000\n",
       "75%      1.790000    1.797500\n",
       "max      2.140000    2.260000"
      ]
     },
     "execution_count": 267,
     "metadata": {},
     "output_type": "execute_result"
    }
   ],
   "source": [
    "df.describe()"
   ]
  },
  {
   "cell_type": "code",
   "execution_count": 268,
   "metadata": {},
   "outputs": [],
   "source": [
    "X = df.values\n",
    "percent_train_size = 50/100\n",
    "train_size = int(len(X) * percent_train_size)"
   ]
  },
  {
   "cell_type": "code",
   "execution_count": 269,
   "metadata": {},
   "outputs": [],
   "source": [
    "train, test = X[1:train_size], X[train_size:]"
   ]
  },
  {
   "cell_type": "code",
   "execution_count": 270,
   "metadata": {},
   "outputs": [],
   "source": [
    "train_X, train_y = train[:,0], train[:,1]\n",
    "test_X, test_y = test[:,0], test[:,1]"
   ]
  },
  {
   "cell_type": "code",
   "execution_count": 271,
   "metadata": {},
   "outputs": [],
   "source": [
    "rmse_baseline = math.sqrt(mean_squared_error(test_X, test_y))"
   ]
  },
  {
   "cell_type": "code",
   "execution_count": 272,
   "metadata": {},
   "outputs": [
    {
     "data": {
      "text/plain": [
       "0.1836171403689975"
      ]
     },
     "execution_count": 272,
     "metadata": {},
     "output_type": "execute_result"
    }
   ],
   "source": [
    "rmse_baseline"
   ]
  },
  {
   "cell_type": "markdown",
   "metadata": {},
   "source": [
    "### Findings\n",
    "Using _naive forecast model_, we can see that the model achieves an rmse of about 0.184.\n",
    "\n",
    "We would prefer to build a model that achieves an error that is better than this."
   ]
  },
  {
   "cell_type": "markdown",
   "metadata": {},
   "source": [
    "## C.2 Reframe Time Series (If Needed)"
   ]
  },
  {
   "cell_type": "code",
   "execution_count": 273,
   "metadata": {},
   "outputs": [],
   "source": [
    "#None"
   ]
  },
  {
   "cell_type": "markdown",
   "metadata": {},
   "source": [
    "# D. Develop Models"
   ]
  },
  {
   "cell_type": "markdown",
   "metadata": {},
   "source": [
    "## D.1 Creating Models"
   ]
  },
  {
   "cell_type": "markdown",
   "metadata": {},
   "source": [
    "### D.1.1 Splitting Data"
   ]
  },
  {
   "cell_type": "code",
   "execution_count": 274,
   "metadata": {},
   "outputs": [],
   "source": [
    "from statsmodels.tsa.arima_model import ARIMA"
   ]
  },
  {
   "cell_type": "code",
   "execution_count": 275,
   "metadata": {},
   "outputs": [],
   "source": [
    "#split train and test data\n",
    "X = series.values\n",
    "X = X.astype('float32')\n",
    "train, test = X[:train_size], X[train_size:]"
   ]
  },
  {
   "cell_type": "markdown",
   "metadata": {},
   "source": [
    "### D.1.2 Try Walk Forward Validation with ARIMA"
   ]
  },
  {
   "cell_type": "code",
   "execution_count": 276,
   "metadata": {},
   "outputs": [],
   "source": [
    "residual_erros = list()\n",
    "\n",
    "def difference(dataset, interval=1):\n",
    "    diff = list()\n",
    "    for i in range(interval, len(dataset)):\n",
    "        value = dataset[i] - dataset[i - interval]\n",
    "        diff.append(value)\n",
    "    return diff\n",
    "\n",
    "def inverse_difference(history, yhat, interval=1):\n",
    "    return yhat + history[-interval]"
   ]
  },
  {
   "cell_type": "code",
   "execution_count": 277,
   "metadata": {},
   "outputs": [],
   "source": [
    "# evaluate an ARIMA model for a given order (p,d,q)\n",
    "def evaluate_arima_model(X, arima_order, display_debug=False, display_plot=False):\n",
    "    global percent_train_size, residual_erros\n",
    "    \n",
    "    #emptying\n",
    "    residual_erros = list()\n",
    "    \n",
    "    train_size = int(len(X) * percent_train_size)\n",
    "    train, test = X[0:train_size], X[train_size:]\n",
    "    \n",
    "    history = [x for x in train]\n",
    "    predictions = list()\n",
    "    \n",
    "    if display_debug:\n",
    "        print('use_transform_data: '+str(use_transform_data))\n",
    "    \n",
    "    #walk forward validation\n",
    "    for t in range(len(test)):\n",
    "        #difference in data\n",
    "        months_in_year = 12\n",
    "        diff = difference(history, months_in_year)\n",
    "        \n",
    "        model = ARIMA(diff, order=arima_order)\n",
    "        model_fit = model.fit(trend='nc', disp=0)\n",
    "        output = model_fit.forecast()\n",
    "\n",
    "        yhat = output[0]\n",
    "            \n",
    "        yhat = inverse_difference(history, yhat, months_in_year)\n",
    "\n",
    "        yhat += residual_bias\n",
    "    \n",
    "        predictions.append(yhat)\n",
    "        obs = test[t]\n",
    "        history.append(obs)\n",
    "        \n",
    "        #additional 1\n",
    "        if display_debug:\n",
    "            print('predicted %f, observation %f' %(yhat, obs))\n",
    "\n",
    "    rmse = math.sqrt(mean_squared_error(predictions, test))\n",
    "    residual_erros = test - predictions\n",
    "    \n",
    "    if display_plot:\n",
    "        # plot forecasts against actual outcomes\n",
    "        plt.figure(figsize=(12,6))\n",
    "        plt.plot(test, label='observations')\n",
    "        plt.plot(predictions, color= 'red', label='predictions')\n",
    "        plt.legend()\n",
    "        plt.show()\n",
    "            \n",
    "    return rmse"
   ]
  },
  {
   "cell_type": "code",
   "execution_count": 278,
   "metadata": {
    "scrolled": false
   },
   "outputs": [
    {
     "name": "stdout",
     "output_type": "stream",
     "text": [
      "use_transform_data: False\n",
      "predicted 1.713220, observation 1.860000\n",
      "predicted 1.478830, observation 1.550000\n",
      "predicted 1.306881, observation 1.210000\n",
      "predicted 1.148939, observation 1.220000\n",
      "predicted 1.229429, observation 1.330000\n",
      "predicted 1.371724, observation 1.390000\n",
      "predicted 1.534393, observation 1.540000\n",
      "predicted 1.791685, observation 1.780000\n",
      "predicted 1.725258, observation 1.790000\n",
      "predicted 2.116388, observation 2.040000\n",
      "predicted 2.006173, observation 2.040000\n",
      "predicted 2.002165, observation 1.890000\n",
      "predicted 1.785031, observation 1.710000\n",
      "predicted 1.470976, observation 1.510000\n",
      "predicted 1.196379, observation 1.200000\n",
      "predicted 1.222463, observation 1.400000\n",
      "predicted 1.498478, observation 1.440000\n",
      "predicted 1.459588, observation 1.490000\n",
      "predicted 1.632612, observation 1.520000\n",
      "predicted 1.735525, observation 1.720000\n",
      "predicted 1.746011, observation 2.140000\n",
      "predicted 2.280454, observation 1.920000\n",
      "predicted 1.946170, observation 1.910000\n",
      "predicted 1.895834, observation 1.810000\n",
      "predicted 1.584974, observation 1.440000\n",
      "predicted 1.365810, observation 1.170000\n",
      "predicted 1.028279, observation 1.240000\n",
      "predicted 1.437164, observation 1.520000\n",
      "predicted 1.530515, observation 1.780000\n",
      "predicted 1.802071, observation 1.810000\n",
      "predicted 1.711430, observation 1.770000\n",
      "predicted 1.876830, observation 1.870000\n",
      "predicted 2.175581, observation 1.970000\n",
      "predicted 1.743729, observation 1.930000\n",
      "predicted 1.885588, observation 1.900000\n",
      "predicted 1.749911, observation 1.660000\n",
      "predicted 1.403127, observation 1.380000\n",
      "predicted 1.146994, observation 1.100000\n",
      "predicted 1.190580, observation 1.110000\n",
      "predicted 1.484639, observation 1.180000\n",
      "predicted 1.585056, observation 1.250000\n",
      "predicted 1.485016, observation 1.330000\n",
      "predicted 1.472506, observation 1.470000\n",
      "predicted 1.724817, observation 1.540000\n",
      "predicted 1.829209, observation 1.690000\n",
      "predicted 1.830582, observation 1.810000\n",
      "predicted 1.863674, observation 1.800000\n",
      "predicted 1.638358, observation 1.840000\n",
      "predicted 1.574122, observation 1.690000\n",
      "predicted 1.333549, observation 1.410000\n",
      "predicted 1.372723, observation 1.320000\n",
      "predicted 1.315370, observation 1.320000\n",
      "predicted 1.309490, observation 1.330000\n",
      "predicted 1.337423, observation 1.390000\n",
      "predicted 1.483517, observation 1.340000\n",
      "predicted 1.424174, observation 1.820000\n",
      "predicted 1.889769, observation 1.970000\n",
      "predicted 1.965359, observation 2.070000\n",
      "predicted 2.043457, observation 2.260000\n"
     ]
    },
    {
     "data": {
      "image/png": "[encoded data removed]",
      "text/plain": [
       "<Figure size 864x432 with 1 Axes>"
      ]
     },
     "metadata": {
      "needs_background": "light"
     },
     "output_type": "display_data"
    }
   ],
   "source": [
    "#evaluate model\n",
    "dataset = series.values\n",
    "dataset = dataset.astype('float32')\n",
    "order = (4,0,0)\n",
    "residual_bias = 0.007752684644020768\n",
    "\n",
    "rmse_walk_forward = evaluate_arima_model(dataset, order, display_debug=True, display_plot=True)"
   ]
  },
  {
   "cell_type": "code",
   "execution_count": 279,
   "metadata": {},
   "outputs": [
    {
     "data": {
      "text/plain": [
       "(0.1479293329219086, 0.1836171403689975)"
      ]
     },
     "execution_count": 279,
     "metadata": {},
     "output_type": "execute_result"
    }
   ],
   "source": [
    "rmse_walk_forward, rmse_baseline"
   ]
  },
  {
   "cell_type": "code",
   "execution_count": 280,
   "metadata": {},
   "outputs": [],
   "source": [
    "#betterment\n",
    "# (1 - rmse_walk_forward/rmse_baseline_transformed_data)*100 #percent, makin tinggi makin baik"
   ]
  },
  {
   "cell_type": "code",
   "execution_count": 281,
   "metadata": {},
   "outputs": [
    {
     "name": "stdout",
     "output_type": "stream",
     "text": [
      "Good! Our model is better than naive forecast. This model can be further optimized.\n"
     ]
    }
   ],
   "source": [
    "model_can_be_optimized = False\n",
    "if rmse_walk_forward < rmse_baseline:\n",
    "    print('Good! Our model is better than naive forecast. This model can be further optimized.')\n",
    "    model_can_be_optimized = True\n",
    "else:\n",
    "    print('Ouch... Our model is NOT better than naive forecast. This time series probably a \"Random Walk\"')"
   ]
  },
  {
   "cell_type": "markdown",
   "metadata": {},
   "source": [
    "## D.2 Review Residual Errors (Additional Only)\n",
    "Ideally, the distribution of residual errors should be a Gaussian with a zero mean"
   ]
  },
  {
   "cell_type": "code",
   "execution_count": 282,
   "metadata": {},
   "outputs": [
    {
     "data": {
      "text/plain": [
       "array([ 0.14677997,  0.07116993, -0.09688059,  0.0710606 ,  0.10057074,\n",
       "        0.01827624,  0.00560697, -0.01168453,  0.06474161, -0.07638818,\n",
       "        0.03382708, -0.11216533, -0.07503063,  0.03902382,  0.00362135,\n",
       "        0.17753679, -0.05847836,  0.03041162, -0.11261246, -0.01552478,\n",
       "        0.39398862, -0.36045446, -0.03617034, -0.08583434, -0.14497432,\n",
       "       -0.19581007,  0.21172134,  0.08283551,  0.24948497,  0.00792922,\n",
       "        0.05857014, -0.00682986, -0.20558061,  0.18627142,  0.01441185,\n",
       "       -0.08991152, -0.02312684, -0.04699399, -0.08058001, -0.30463871,\n",
       "       -0.33505551, -0.15501547, -0.00250645, -0.18481674, -0.13920846,\n",
       "       -0.02058228, -0.06367445,  0.20164217,  0.11587847,  0.07645085,\n",
       "       -0.0527228 ,  0.0046303 ,  0.02051002,  0.05257669, -0.14351671,\n",
       "        0.39582603,  0.08023058,  0.10464122,  0.2165427 ])"
      ]
     },
     "execution_count": 282,
     "metadata": {},
     "output_type": "execute_result"
    }
   ],
   "source": [
    "residual_erros"
   ]
  },
  {
   "cell_type": "code",
   "execution_count": 283,
   "metadata": {},
   "outputs": [
    {
     "data": {
      "text/plain": [
       "-3.7634678800852764e-18"
      ]
     },
     "execution_count": 283,
     "metadata": {},
     "output_type": "execute_result"
    }
   ],
   "source": [
    "residual_erros.mean()"
   ]
  },
  {
   "cell_type": "code",
   "execution_count": 284,
   "metadata": {},
   "outputs": [
    {
     "data": {
      "text/html": [
       "<div>\n",
       "<style scoped>\n",
       "    .dataframe tbody tr th:only-of-type {\n",
       "        vertical-align: middle;\n",
       "    }\n",
       "\n",
       "    .dataframe tbody tr th {\n",
       "        vertical-align: top;\n",
       "    }\n",
       "\n",
       "    .dataframe thead th {\n",
       "        text-align: right;\n",
       "    }\n",
       "</style>\n",
       "<table border=\"1\" class=\"dataframe\">\n",
       "  <thead>\n",
       "    <tr style=\"text-align: right;\">\n",
       "      <th></th>\n",
       "      <th>0</th>\n",
       "    </tr>\n",
       "  </thead>\n",
       "  <tbody>\n",
       "    <tr>\n",
       "      <th>count</th>\n",
       "      <td>5.900000e+01</td>\n",
       "    </tr>\n",
       "    <tr>\n",
       "      <th>mean</th>\n",
       "      <td>-3.763468e-18</td>\n",
       "    </tr>\n",
       "    <tr>\n",
       "      <th>std</th>\n",
       "      <td>1.491991e-01</td>\n",
       "    </tr>\n",
       "    <tr>\n",
       "      <th>min</th>\n",
       "      <td>-3.604545e-01</td>\n",
       "    </tr>\n",
       "    <tr>\n",
       "      <th>25%</th>\n",
       "      <td>-8.320717e-02</td>\n",
       "    </tr>\n",
       "    <tr>\n",
       "      <th>50%</th>\n",
       "      <td>3.621353e-03</td>\n",
       "    </tr>\n",
       "    <tr>\n",
       "      <th>75%</th>\n",
       "      <td>7.381039e-02</td>\n",
       "    </tr>\n",
       "    <tr>\n",
       "      <th>max</th>\n",
       "      <td>3.958260e-01</td>\n",
       "    </tr>\n",
       "  </tbody>\n",
       "</table>\n",
       "</div>"
      ],
      "text/plain": [
       "                  0\n",
       "count  5.900000e+01\n",
       "mean  -3.763468e-18\n",
       "std    1.491991e-01\n",
       "min   -3.604545e-01\n",
       "25%   -8.320717e-02\n",
       "50%    3.621353e-03\n",
       "75%    7.381039e-02\n",
       "max    3.958260e-01"
      ]
     },
     "execution_count": 284,
     "metadata": {},
     "output_type": "execute_result"
    }
   ],
   "source": [
    "pd.DataFrame(residual_erros).describe()"
   ]
  },
  {
   "cell_type": "markdown",
   "metadata": {},
   "source": [
    "We can see that the distribution has zero mean. This is perhaps a sign that the predictions are not biased. Since we have used this information previously to bias-correct predictions by adding the mean residual error\n",
    "of 0.007752684644020768 to each forecast made."
   ]
  },
  {
   "cell_type": "markdown",
   "metadata": {},
   "source": [
    "## D.3 Optimizing Models (Grid Search)"
   ]
  },
  {
   "cell_type": "code",
   "execution_count": 285,
   "metadata": {},
   "outputs": [],
   "source": [
    "# evaluate combinations of p, d and q values for an ARIMA model\n",
    "def evaluate_models(dataset, p_values, d_values, q_values):\n",
    "    dataset = dataset.astype('float32')\n",
    "    best_score, best_cfg = float(\"inf\"), None\n",
    "    \n",
    "    for p in p_values:\n",
    "        for d in d_values:\n",
    "            for q in q_values:\n",
    "                order = (p, d, q)\n",
    "                try:\n",
    "                    rmse = evaluate_arima_model(dataset, order, display_debug=False, display_plot=False)\n",
    "                    if rmse < best_score:\n",
    "                        best_score, best_cfg = rmse, order\n",
    "                    print('ARIMA%s RMSE=%.3f' % (order,rmse))\n",
    "                except:\n",
    "                    continue\n",
    "    print(\"Best ARIMA %s, RMSE =%.3f\" % (best_cfg, best_score))"
   ]
  },
  {
   "cell_type": "code",
   "execution_count": 286,
   "metadata": {},
   "outputs": [],
   "source": [
    "import warnings"
   ]
  },
  {
   "cell_type": "code",
   "execution_count": 287,
   "metadata": {},
   "outputs": [
    {
     "name": "stdout",
     "output_type": "stream",
     "text": [
      "optimizing models starting...\n",
      "ARIMA(0, 0, 1) RMSE=0.167\n",
      "ARIMA(0, 1, 1) RMSE=0.158\n",
      "ARIMA(1, 0, 0) RMSE=0.150\n",
      "ARIMA(1, 0, 1) RMSE=0.151\n",
      "ARIMA(1, 1, 0) RMSE=0.158\n",
      "ARIMA(2, 0, 0) RMSE=0.151\n",
      "ARIMA(2, 0, 1) RMSE=0.151\n",
      "ARIMA(2, 1, 0) RMSE=0.158\n",
      "ARIMA(2, 1, 1) RMSE=0.159\n",
      "ARIMA(3, 0, 0) RMSE=0.152\n",
      "ARIMA(3, 0, 1) RMSE=0.152\n",
      "ARIMA(3, 1, 0) RMSE=0.158\n",
      "ARIMA(3, 1, 1) RMSE=0.155\n",
      "ARIMA(4, 0, 0) RMSE=0.148\n",
      "ARIMA(4, 0, 1) RMSE=0.153\n",
      "ARIMA(4, 1, 0) RMSE=0.155\n",
      "ARIMA(4, 1, 1) RMSE=0.154\n",
      "ARIMA(5, 0, 0) RMSE=0.149\n",
      "ARIMA(5, 0, 1) RMSE=0.148\n",
      "ARIMA(5, 1, 0) RMSE=0.157\n",
      "ARIMA(5, 1, 1) RMSE=0.156\n",
      "Best ARIMA (4, 0, 0), RMSE =0.148\n"
     ]
    }
   ],
   "source": [
    "p_values = range(0, 6) #10, semakin banyak semakin lama\n",
    "d_values = range(0, 2)\n",
    "q_values = range(0, 2)\n",
    "warnings.filterwarnings(\"ignore\")\n",
    "\n",
    "model_want_to_be_optimized = True\n",
    "\n",
    "if model_can_be_optimized and model_want_to_be_optimized:\n",
    "    print('optimizing models starting...')\n",
    "    evaluate_models(series.values, p_values, d_values, q_values)\n",
    "else:\n",
    "    print('Not optimizing models!')"
   ]
  },
  {
   "cell_type": "markdown",
   "metadata": {},
   "source": [
    "## D.4 Save/Finalizing Models\n",
    "\n",
    "Finalizing the model involves fitting an ARIMA model on the entire dataset, in this case, on a\n",
    "transformed version of the entire dataset. Once fit, the model can be saved to file for later use."
   ]
  },
  {
   "cell_type": "code",
   "execution_count": 288,
   "metadata": {},
   "outputs": [],
   "source": [
    "#prepare data\n",
    "X = series.values\n",
    "X = X.astype('float32')\n",
    "\n",
    "# difference data\n",
    "months_in_year = 12\n",
    "diff = difference(X, months_in_year)\n",
    "\n",
    "# make model\n",
    "best_cfg = (4, 0, 0)\n",
    "model = ARIMA(diff, order=best_cfg)\n",
    "model_fit = model.fit(trend='nc', disp=0)\n",
    "\n",
    "# save model to file\n",
    "model_fit.save('model_ffb.pkl')\n",
    "np.save('ffb_bias.npy', [residual_bias])"
   ]
  },
  {
   "cell_type": "markdown",
   "metadata": {},
   "source": [
    "# E. Predicting"
   ]
  },
  {
   "cell_type": "code",
   "execution_count": 289,
   "metadata": {},
   "outputs": [],
   "source": [
    "from statsmodels.tsa.arima_model import ARIMAResults"
   ]
  },
  {
   "cell_type": "code",
   "execution_count": 290,
   "metadata": {},
   "outputs": [],
   "source": [
    "X = series.values.astype('float32')"
   ]
  },
  {
   "cell_type": "code",
   "execution_count": 291,
   "metadata": {},
   "outputs": [],
   "source": [
    "test = validation.values"
   ]
  },
  {
   "cell_type": "code",
   "execution_count": 292,
   "metadata": {},
   "outputs": [],
   "source": [
    "# load model\n",
    "model_fit = ARIMAResults.load('model_ffb.pkl')\n",
    "bias = np.load('ffb_bias.npy')"
   ]
  },
  {
   "cell_type": "code",
   "execution_count": 293,
   "metadata": {},
   "outputs": [
    {
     "name": "stdout",
     "output_type": "stream",
     "text": [
      "predicted 2.136964, observation 2.270000\n",
      "predicted 1.957665, observation 2.190000\n",
      "predicted 1.777974, observation 1.770000\n",
      "predicted 1.527995, observation 1.390000\n",
      "predicted 1.327221, observation 1.530000\n",
      "predicted 1.425211, observation 1.450000\n",
      "predicted 1.402042, observation 1.390000\n",
      "predicted 1.359547, observation 1.290000\n",
      "predicted 1.759494, observation 1.420000\n",
      "predicted 1.651540, observation 1.610000\n",
      "predicted 1.816855, observation 1.910000\n",
      "predicted 2.114965, observation 2.040000\n"
     ]
    }
   ],
   "source": [
    "history = [x for x in X]\n",
    "predictions = list()\n",
    "\n",
    "months_in_year = 12\n",
    "\n",
    "#walk forward validation on the test data\n",
    "for t in range(len(test)):\n",
    "    diff = difference(history, months_in_year)\n",
    "    \n",
    "    # transform\n",
    "    history_final = history\n",
    "\n",
    "    model = ARIMA(diff, order=order)\n",
    "    model_fit = model.fit(disp=0, trend='nc')\n",
    "    output, stderr, conf = model_fit.forecast()\n",
    "    \n",
    "    yhat = output\n",
    "    \n",
    "    yhat = inverse_difference(history, yhat, months_in_year)\n",
    "    yhat += residual_bias\n",
    "    \n",
    "    predictions.append(yhat)\n",
    "    obs = test[t]\n",
    "    history.append(obs)\n",
    "\n",
    "    print('predicted %f, observation %f' %(yhat, obs))\n",
    "\n",
    "rmse = math.sqrt(mean_squared_error(predictions, test))\n",
    "residual_erros = test - predictions"
   ]
  },
  {
   "cell_type": "code",
   "execution_count": 294,
   "metadata": {},
   "outputs": [
    {
     "data": {
      "text/plain": [
       "0.14965998974554065"
      ]
     },
     "execution_count": 294,
     "metadata": {},
     "output_type": "execute_result"
    }
   ],
   "source": [
    "rmse"
   ]
  },
  {
   "cell_type": "code",
   "execution_count": 296,
   "metadata": {
    "scrolled": false
   },
   "outputs": [
    {
     "data": {
      "image/png": "[encoded data removed]",
      "text/plain": [
       "<Figure size 864x432 with 1 Axes>"
      ]
     },
     "metadata": {
      "needs_background": "light"
     },
     "output_type": "display_data"
    }
   ],
   "source": [
    "plt.figure(figsize=(12,6))\n",
    "plt.plot(validation.index, test, label='Real FFB_yield', marker='x')\n",
    "plt.plot(validation.index, predictions, color= 'red', label='Predicted FFB_yield', marker='o')\n",
    "plt.xlabel('Time')\n",
    "plt.ylabel('FFB_yield (ton/ha)')\n",
    "plt.title('FFB_yield Predictions')\n",
    "plt.grid()\n",
    "plt.legend()\n",
    "plt.show()"
   ]
  },
  {
   "cell_type": "markdown",
   "metadata": {},
   "source": [
    "### Findings\n",
    "Perhaps this model can help the plantation planning teams, who are concerned with oil palm yields, to better predict FFB yields from month to month."
   ]
  },
  {
   "cell_type": "code",
   "execution_count": null,
   "metadata": {},
   "outputs": [],
   "source": []
  }
 ],
 "metadata": {
  "kernelspec": {
   "display_name": "Python 3",
   "language": "python",
   "name": "python3"
  },
  "language_info": {
   "codemirror_mode": {
    "name": "ipython",
    "version": 3
   },
   "file_extension": ".py",
   "mimetype": "text/x-python",
   "name": "python",
   "nbconvert_exporter": "python",
   "pygments_lexer": "ipython3",
   "version": "3.5.2"
  }
 },
 "nbformat": 4,
 "nbformat_minor": 2
}
